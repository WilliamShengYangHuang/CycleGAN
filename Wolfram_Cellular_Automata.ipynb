{
  "nbformat": 4,
  "nbformat_minor": 0,
  "metadata": {
    "colab": {
      "name": "Wolfram_Cellular_Automata",
      "provenance": [],
      "collapsed_sections": [],
      "include_colab_link": true
    },
    "kernelspec": {
      "name": "python3",
      "display_name": "Python 3"
    },
    "language_info": {
      "name": "python"
    }
  },
  "cells": [
    {
      "cell_type": "markdown",
      "metadata": {
        "id": "view-in-github",
        "colab_type": "text"
      },
      "source": [
        "<a href=\"https://colab.research.google.com/github/WilliamShengYangHuang/CycleGAN/blob/main/Wolfram_Cellular_Automata.ipynb\" target=\"_parent\"><img src=\"https://colab.research.google.com/assets/colab-badge.svg\" alt=\"Open In Colab\"/></a>"
      ]
    },
    {
      "cell_type": "markdown",
      "metadata": {
        "id": "5CH0uBUPCF9r"
      },
      "source": [
        "# **Stephen Wolfram's Cellular Automata (CA)**\n",
        "\n",
        "A New Kind of Science (online): https://www.wolframscience.com/nks/\n",
        "\n",
        "last modified on 29 December by William Huang (ucfnhua@ucl.ac.uk)"
      ]
    },
    {
      "cell_type": "code",
      "metadata": {
        "id": "iIgs9Mq2Hks2"
      },
      "source": [
        "import numpy as np\n",
        "import matplotlib.pyplot as plt\n",
        "import random\n",
        "#%matplotlib inline"
      ],
      "execution_count": 1,
      "outputs": []
    },
    {
      "cell_type": "code",
      "metadata": {
        "id": "x_JVbJSXHlm2"
      },
      "source": [
        "u = np.array([[4], [2], [1]]) # We will use the vector to obtain numbers written in binary representation"
      ],
      "execution_count": 2,
      "outputs": []
    },
    {
      "cell_type": "markdown",
      "metadata": {
        "id": "hR07mnolBmzr"
      },
      "source": [
        "## Compute a single state of the elementary CA"
      ]
    },
    {
      "cell_type": "code",
      "metadata": {
        "id": "IFOh6QNlHqW9"
      },
      "source": [
        "def step(x, rule_b):\n",
        "    # The columns contains the L(left), C(center), R(right) values of all cells.\n",
        "    y = np.vstack((np.roll(x, 1), x, np.roll(x, -1))).astype(np.int8) # We get the LCR pattern numbers between 0 and 7.\n",
        "    z = np.sum(y * u, axis=0).astype(np.int8) # We get the patterns given by the rule.\n",
        "    #print('y:' + y)\n",
        "    #print('z:' + z)\n",
        "    return rule_b[7 - z]"
      ],
      "execution_count": 3,
      "outputs": []
    },
    {
      "cell_type": "markdown",
      "metadata": {
        "id": "cmQU3c1ABWT6"
      },
      "source": [
        "## Simulate an elementary CA given its rule (0, 255)"
      ]
    },
    {
      "cell_type": "code",
      "source": [
        "SIZE = 64 #@param{type:\"slider\", min:1, max:512, step:1}"
      ],
      "metadata": {
        "id": "j0bcn2hBaTEQ"
      },
      "execution_count": 4,
      "outputs": []
    },
    {
      "cell_type": "code",
      "metadata": {
        "id": "Kq0XbmfdHrF5"
      },
      "source": [
        "def generate(rule, size=SIZE, steps=SIZE):\n",
        "    # Compute the binary representation of the rule.\n",
        "    rule_b = np.array(\n",
        "        [int(_) for _ in np.binary_repr(rule, 8)], dtype=np.int8)\n",
        "    x = np.zeros((steps, size), dtype=np.int8) # Random initial state.\n",
        "    x[0, :] = np.random.rand(size) < .5 # Apply the step function iteratively.\n",
        "    \n",
        "    for i in range(steps - 1):\n",
        "        x[i + 1, :] = step(x[i, :], rule_b)\n",
        "    return x"
      ],
      "execution_count": 5,
      "outputs": []
    },
    {
      "cell_type": "code",
      "metadata": {
        "colab": {
          "base_uri": "https://localhost:8080/",
          "height": 517
        },
        "id": "3WCUvaaXHt98",
        "outputId": "3afb3171-f641-45c0-fdef-8215e41fe3c9"
      },
      "source": [
        "raw = 2 #@param {type:\"slider\", min:1, max:8, step:1}\n",
        "column = 2 #@param {type:\"slider\", min:1, max:8, step:1}\n",
        "fig, axes = plt.subplots(raw, column, figsize=(8, 8))\n",
        "rules = []\n",
        "for i in range(raw*column):\n",
        "  rules.append(random.randint(1, 300))\n",
        "#rules = [3, 18, 30, 90, 106, 110, 158, 154, 184]\n",
        "for ax, rule in zip(axes.flat, rules):\n",
        "    x = generate(rule)\n",
        "    ax.imshow(x, interpolation='none',\n",
        "              cmap=plt.cm.binary)\n",
        "    ax.set_axis_off()\n",
        "    ax.set_title('rule' + str(rule))"
      ],
      "execution_count": 6,
      "outputs": [
        {
          "output_type": "stream",
          "name": "stderr",
          "text": [
            "/usr/local/lib/python3.7/dist-packages/ipykernel_launcher.py:4: DeprecationWarning: Insufficient bit width provided. This behavior will raise an error in the future.\n",
            "  after removing the cwd from sys.path.\n"
          ]
        },
        {
          "output_type": "display_data",
          "data": {
            "image/png": "[encoded data removed]",
            "text/plain": [
              "<Figure size 576x576 with 4 Axes>"
            ]
          },
          "metadata": {
            "needs_background": "light"
          }
        }
      ]
    }
  ]
}